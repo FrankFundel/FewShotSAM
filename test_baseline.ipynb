{
 "cells": [
  {
   "cell_type": "code",
   "execution_count": 1,
   "id": "ad274da1-82b6-4974-bd52-22983ea73ad9",
   "metadata": {
    "tags": []
   },
   "outputs": [],
   "source": [
    "import numpy as np\n",
    "import torch\n",
    "import torchvision\n",
    "from torch.nn.parallel import DataParallel\n",
    "from torchvision.transforms import ToTensor, Compose\n",
    "import matplotlib.pyplot as plt\n",
    "\n",
    "from segment_anything.utils.transforms import ResizeLongestSide\n",
    "\n",
    "from datasets import Embedding_Dataset\n",
    "from utils import SAMPreprocess, PILToNumpy, NumpyToTensor, SamplePoint, embedding_collate\n",
    "from models import SAM_Baseline\n",
    "from test import create_dataloaders, test_model, plot_iou_scores"
   ]
  },
  {
   "cell_type": "code",
   "execution_count": 2,
   "id": "6b0e2256-94f7-4f98-99bf-c4d6ceeb318b",
   "metadata": {},
   "outputs": [],
   "source": [
    "batch_size = 8\n",
    "folder_paths = [\n",
    "    '/pfs/work7/workspace/scratch/ul_xto11-FSSAM/Liebherr/dataset',\n",
    "    '/pfs/work7/workspace/scratch/ul_xto11-FSSAM/FSSAM Datasets/EgoHOS/dataset',\n",
    "    '/pfs/work7/workspace/scratch/ul_xto11-FSSAM/FSSAM Datasets/GTEA/dataset',\n",
    "    '/pfs/work7/workspace/scratch/ul_xto11-FSSAM/FSSAM Datasets/LVIS/dataset',\n",
    "    '/pfs/work7/workspace/scratch/ul_xto11-FSSAM/FSSAM Datasets/NDIS Park/dataset',\n",
    "    '/pfs/work7/workspace/scratch/ul_xto11-FSSAM/FSSAM Datasets/TrashCan/dataset',\n",
    "    '/pfs/work7/workspace/scratch/ul_xto11-FSSAM/FSSAM Datasets/ZeroWaste-f/dataset',\n",
    "]\n",
    "only_liebherr = False"
   ]
  },
  {
   "cell_type": "code",
   "execution_count": 3,
   "id": "e2715068-f052-4b8a-ae21-c91f86f9bb50",
   "metadata": {},
   "outputs": [
    {
     "name": "stdout",
     "output_type": "stream",
     "text": [
      "SAM loaded\n"
     ]
    }
   ],
   "source": [
    "device = torch.device(\"cuda\" if torch.cuda.is_available() else \"cpu\")\n",
    "model = SAM_Baseline()\n",
    "if torch.cuda.device_count() > 1:\n",
    "    print(\"Let's use\", torch.cuda.device_count(), \"GPUs!\")\n",
    "    model = DataParallel(model)\n",
    "model.to(device)\n",
    "print(\"SAM loaded\")"
   ]
  },
  {
   "cell_type": "code",
   "execution_count": 4,
   "id": "250fd898-9523-4679-8dee-6e9c34649563",
   "metadata": {},
   "outputs": [],
   "source": [
    "sam_transform = ResizeLongestSide(model.img_size)\n",
    "target_transform = Compose([\n",
    "    sam_transform.apply_image_torch, # rescale\n",
    "    SAMPreprocess(model.img_size, normalize=False), # padding\n",
    "    SamplePoint(),\n",
    "])\n",
    "transform = Compose([\n",
    "    PILToNumpy(),\n",
    "    sam_transform.apply_image, # rescale\n",
    "    NumpyToTensor(),\n",
    "    SAMPreprocess(model.img_size) # padding\n",
    "])\n",
    "\n",
    "if only_liebherr:\n",
    "    folder_paths = [folder_paths[0]]\n",
    "    \n",
    "dataloaders = create_dataloaders(folder_paths, transform=transform, target_transform=target_transform,\n",
    "                                 collate_fn=embedding_collate, batch_size=batch_size)"
   ]
  },
  {
   "cell_type": "code",
   "execution_count": 5,
   "id": "aa1d8597-68ff-4630-9f41-67c0ab4eca43",
   "metadata": {
    "tags": []
   },
   "outputs": [
    {
     "name": "stdout",
     "output_type": "stream",
     "text": [
      "Testing Liebherr\n"
     ]
    },
    {
     "name": "stderr",
     "output_type": "stream",
     "text": [
      "100%|██████████| 106/106 [07:01<00:00,  3.97s/it, IoU=0.508, oracle IoU=0.654]\n"
     ]
    },
    {
     "name": "stdout",
     "output_type": "stream",
     "text": [
      "Average IoU tensor(0.5077)\n",
      "Average Oracle IoU tensor(0.6541)\n",
      "Testing EgoHOS\n"
     ]
    },
    {
     "name": "stderr",
     "output_type": "stream",
     "text": [
      "100%|██████████| 125/125 [05:40<00:00,  2.72s/it, IoU=0.562, oracle IoU=0.716]\n"
     ]
    },
    {
     "name": "stdout",
     "output_type": "stream",
     "text": [
      "Average IoU tensor(0.5616)\n",
      "Average Oracle IoU tensor(0.7160)\n",
      "Testing GTEA\n"
     ]
    },
    {
     "name": "stderr",
     "output_type": "stream",
     "text": [
      "100%|██████████| 82/82 [02:57<00:00,  2.17s/it, IoU=0.769, oracle IoU=0.882]\n"
     ]
    },
    {
     "name": "stdout",
     "output_type": "stream",
     "text": [
      "Average IoU tensor(0.7686)\n",
      "Average Oracle IoU tensor(0.8821)\n",
      "Testing LVIS\n"
     ]
    },
    {
     "name": "stderr",
     "output_type": "stream",
     "text": [
      "100%|██████████| 125/125 [05:24<00:00,  2.59s/it, IoU=0.495, oracle IoU=0.714]\n"
     ]
    },
    {
     "name": "stdout",
     "output_type": "stream",
     "text": [
      "Average IoU tensor(0.4951)\n",
      "Average Oracle IoU tensor(0.7136)\n",
      "Testing NDIS Park\n"
     ]
    },
    {
     "name": "stderr",
     "output_type": "stream",
     "text": [
      "100%|██████████| 14/14 [01:38<00:00,  7.06s/it, IoU=0.523, oracle IoU=0.707]\n"
     ]
    },
    {
     "name": "stdout",
     "output_type": "stream",
     "text": [
      "Average IoU tensor(0.5227)\n",
      "Average Oracle IoU tensor(0.7071)\n",
      "Testing TrashCan\n"
     ]
    },
    {
     "name": "stderr",
     "output_type": "stream",
     "text": [
      "100%|██████████| 125/125 [04:44<00:00,  2.28s/it, IoU=0.288, oracle IoU=0.501]\n"
     ]
    },
    {
     "name": "stdout",
     "output_type": "stream",
     "text": [
      "Average IoU tensor(0.2876)\n",
      "Average Oracle IoU tensor(0.5006)\n",
      "Testing ZeroWaste-f\n"
     ]
    },
    {
     "name": "stderr",
     "output_type": "stream",
     "text": [
      "100%|██████████| 125/125 [06:26<00:00,  3.09s/it, IoU=0.27, oracle IoU=0.394] "
     ]
    },
    {
     "name": "stdout",
     "output_type": "stream",
     "text": [
      "Average IoU tensor(0.2699)\n",
      "Average Oracle IoU tensor(0.3939)\n"
     ]
    },
    {
     "name": "stderr",
     "output_type": "stream",
     "text": [
      "\n"
     ]
    }
   ],
   "source": [
    "iou_scores, oracle_iou_scores, dataset_names = test_model(model, dataloaders, device)"
   ]
  },
  {
   "cell_type": "code",
   "execution_count": 6,
   "id": "c85dc459-8c54-4fa5-ae8a-a795c1b0603e",
   "metadata": {},
   "outputs": [
    {
     "data": {
      "image/png": "[encoded data removed]",
      "text/plain": [
       "<Figure size 640x480 with 1 Axes>"
      ]
     },
     "metadata": {},
     "output_type": "display_data"
    },
    {
     "name": "stdout",
     "output_type": "stream",
     "text": [
      "0.48424324 0.6522099\n"
     ]
    }
   ],
   "source": [
    "plot_iou_scores(iou_scores[1:], oracle_iou_scores[1:], dataset_names[1:])\n",
    "print(np.mean(iou_scores[1:]), np.mean(oracle_iou_scores[1:]))"
   ]
  },
  {
   "cell_type": "code",
   "execution_count": null,
   "id": "f6ab4fc3-b15b-4ef8-8db0-ece8f2f1bf39",
   "metadata": {},
   "outputs": [],
   "source": []
  }
 ],
 "metadata": {
  "kernelspec": {
   "display_name": "Python (jupytervenv)",
   "language": "python",
   "name": "jupytervenv"
  },
  "language_info": {
   "codemirror_mode": {
    "name": "ipython",
    "version": 3
   },
   "file_extension": ".py",
   "mimetype": "text/x-python",
   "name": "python",
   "nbconvert_exporter": "python",
   "pygments_lexer": "ipython3",
   "version": "3.9.7"
  }
 },
 "nbformat": 4,
 "nbformat_minor": 5
}
