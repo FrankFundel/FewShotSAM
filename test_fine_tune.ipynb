{
 "cells": [
  {
   "cell_type": "code",
   "execution_count": 1,
   "id": "ad274da1-82b6-4974-bd52-22983ea73ad9",
   "metadata": {
    "tags": []
   },
   "outputs": [],
   "source": [
    "import numpy as np\n",
    "import torch\n",
    "import torchvision\n",
    "from torch.nn.parallel import DataParallel\n",
    "from torchvision.transforms import ToTensor, Compose\n",
    "from torch.utils.data import DataLoader, random_split\n",
    "import matplotlib.pyplot as plt\n",
    "\n",
    "from segment_anything.utils.transforms import ResizeLongestSide\n",
    "\n",
    "from datasets import Embedding_Dataset\n",
    "from utils import SAMPreprocess, PILToNumpy, NumpyToTensor, SamplePoint, embedding_collate, is_valid_file\n",
    "from models import SAM_Baseline\n",
    "from test import evaluate_model"
   ]
  },
  {
   "cell_type": "code",
   "execution_count": 2,
   "id": "6b0e2256-94f7-4f98-99bf-c4d6ceeb318b",
   "metadata": {},
   "outputs": [],
   "source": [
    "batch_size = 8\n",
    "folder_path = '/pfs/work7/workspace/scratch/ul_xto11-FSSAM/Liebherr/dataset'\n",
    "load_weights = 'fine_tune_liebherr_02.pth'"
   ]
  },
  {
   "cell_type": "code",
   "execution_count": 3,
   "id": "e2715068-f052-4b8a-ae21-c91f86f9bb50",
   "metadata": {},
   "outputs": [
    {
     "name": "stdout",
     "output_type": "stream",
     "text": [
      "SAM loaded\n"
     ]
    }
   ],
   "source": [
    "device = torch.device(\"cuda\" if torch.cuda.is_available() else \"cpu\")\n",
    "model = SAM_Baseline()\n",
    "model.load_state_dict(torch.load(load_weights))\n",
    "if torch.cuda.device_count() > 1:\n",
    "    print(\"Let's use\", torch.cuda.device_count(), \"GPUs!\")\n",
    "    model = DataParallel(model)\n",
    "model.to(device)\n",
    "print(\"SAM loaded\")"
   ]
  },
  {
   "cell_type": "code",
   "execution_count": 4,
   "id": "250fd898-9523-4679-8dee-6e9c34649563",
   "metadata": {},
   "outputs": [],
   "source": [
    "sam_transform = ResizeLongestSide(model.img_size)\n",
    "target_transform = Compose([\n",
    "    sam_transform.apply_image_torch, # rescale\n",
    "    SAMPreprocess(model.img_size, normalize=False), # padding\n",
    "    SamplePoint(),\n",
    "])\n",
    "transform = Compose([\n",
    "    PILToNumpy(),\n",
    "    sam_transform.apply_image, # rescale\n",
    "    NumpyToTensor(),\n",
    "    SAMPreprocess(model.img_size) # padding\n",
    "])\n",
    "\n",
    "dataset = Embedding_Dataset(root=folder_path, transform=transform, target_transform=target_transform, is_valid_file=is_valid_file)\n",
    "\n",
    "dataset_size = len(dataset)\n",
    "train_size = int(0.7 * dataset_size)\n",
    "val_size = int(0.15 * dataset_size)\n",
    "test_size = dataset_size - train_size - val_size\n",
    "generator = torch.Generator().manual_seed(42)\n",
    "_, _, test_set = random_split(dataset, [train_size, val_size, test_size], generator)\n",
    "\n",
    "test_loader = DataLoader(test_set, batch_size=batch_size, collate_fn=embedding_collate)"
   ]
  },
  {
   "cell_type": "code",
   "execution_count": 5,
   "id": "aa1d8597-68ff-4630-9f41-67c0ab4eca43",
   "metadata": {
    "tags": []
   },
   "outputs": [
    {
     "name": "stderr",
     "output_type": "stream",
     "text": [
      "100%|██████████| 16/16 [00:59<00:00,  3.70s/it, IoU=0.627, oracle IoU=0.763]"
     ]
    },
    {
     "name": "stdout",
     "output_type": "stream",
     "text": [
      "IoU: 0.6274 Oracle IoU: 0.7628\n"
     ]
    },
    {
     "name": "stderr",
     "output_type": "stream",
     "text": [
      "\n"
     ]
    }
   ],
   "source": [
    "iou_score, oracle_iou_score = evaluate_model(model, test_loader, device)\n",
    "print('IoU: {:.4f} Oracle IoU: {:.4f}'.format(iou_score, oracle_iou_score), flush=True)"
   ]
  },
  {
   "cell_type": "code",
   "execution_count": null,
   "id": "f6ab4fc3-b15b-4ef8-8db0-ece8f2f1bf39",
   "metadata": {},
   "outputs": [],
   "source": []
  }
 ],
 "metadata": {
  "kernelspec": {
   "display_name": "Python (jupytervenv)",
   "language": "python",
   "name": "jupytervenv"
  },
  "language_info": {
   "codemirror_mode": {
    "name": "ipython",
    "version": 3
   },
   "file_extension": ".py",
   "mimetype": "text/x-python",
   "name": "python",
   "nbconvert_exporter": "python",
   "pygments_lexer": "ipython3",
   "version": "3.9.7"
  }
 },
 "nbformat": 4,
 "nbformat_minor": 5
}
